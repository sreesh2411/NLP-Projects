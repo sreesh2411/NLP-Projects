{
  "nbformat": 4,
  "nbformat_minor": 0,
  "metadata": {
    "colab": {
      "name": "07TextSummarization.ipynb",
      "provenance": [],
      "collapsed_sections": [],
      "toc_visible": true
    },
    "kernelspec": {
      "name": "python3",
      "display_name": "Python 3"
    }
  },
  "cells": [
    {
      "cell_type": "markdown",
      "metadata": {
        "id": "JCJvyqyoMbG9",
        "colab_type": "text"
      },
      "source": [
        "Text summarization is a useful tool for various text applications that aims to highlight important information within a large corpus\n",
        "\n",
        "With the outburst of information on the web, Text summarization helps to extract useful information"
      ]
    },
    {
      "cell_type": "markdown",
      "metadata": {
        "id": "mIjG7Ro9MiC7",
        "colab_type": "text"
      },
      "source": [
        "**Why text summarization ?** \n",
        "1. Text summarization reduces the reading time\n",
        "2. Makes selection process much easier\n",
        "3. Improves effectiveness of indexing\n",
        "4. Autometic text summarization is less bias than humans\n",
        "5. With the Autometic text summarization, the number of documents  to be proceeded increases"
      ]
    },
    {
      "cell_type": "markdown",
      "metadata": {
        "id": "o7ECaVxxv1jt",
        "colab_type": "text"
      },
      "source": [
        "# 1) Importing the libraries and Dataset"
      ]
    },
    {
      "cell_type": "code",
      "metadata": {
        "id": "LCRlWJZNRHkn",
        "colab_type": "code",
        "colab": {}
      },
      "source": [
        "import spacy\n",
        "from spacy.lang.en.stop_words import STOP_WORDS\n",
        "from string import punctuation"
      ],
      "execution_count": 0,
      "outputs": []
    },
    {
      "cell_type": "code",
      "metadata": {
        "id": "JNHv2gcPR_hp",
        "colab_type": "code",
        "colab": {}
      },
      "source": [
        "nlp = spacy.load('en_core_web_sm')"
      ],
      "execution_count": 0,
      "outputs": []
    },
    {
      "cell_type": "code",
      "metadata": {
        "id": "GrsvqdvrPIpt",
        "colab_type": "code",
        "colab": {}
      },
      "source": [
        "text = \"\"\" Maria Sharapova has basically no friends as tennis players on the WTA Tour. The Russian player has no problems in openly speaking about it and in a recent interview she said: ‘I don’t really hide any feelings too much.\n",
        "I think everyone knows this is my job here. When I’m on the courts or when I’m on the court playing, I’m a competitor and I want to beat every single person whether they’re in the locker room or across the net.\n",
        "So I’m not the one to strike up a conversation about the weather and know that in the next few minutes I have to go and try to win a tennis match.\n",
        "I’m a pretty competitive girl. I say my hellos, but I’m not sending any players flowers as well. Uhm, I’m not really friendly or close to many players.\n",
        "I have not a lot of friends away from the courts.’ When she said she is not really close to a lot of players, is that something strategic that she is doing? Is it different on the men’s tour than the women’s tour? ‘No, not at all.\n",
        "I think just because you’re in the same sport doesn’t mean that you have to be friends with everyone just because you’re categorized, you’re a tennis player, so you’re going to get along with tennis players.\n",
        "I think every person has different interests. I have friends that have completely different jobs and interests, and I’ve met them in very different parts of my life.\n",
        "I think everyone just thinks because we’re tennis players we should be the greatest of friends. But ultimately tennis is just a very small part of what we do.\n",
        "There are so many other things that we’re interested in, that we do. \"\"\""
      ],
      "execution_count": 0,
      "outputs": []
    },
    {
      "cell_type": "code",
      "metadata": {
        "id": "JP-V3YS3RzyP",
        "colab_type": "code",
        "colab": {}
      },
      "source": [
        "stopwords = list(STOP_WORDS)"
      ],
      "execution_count": 0,
      "outputs": []
    },
    {
      "cell_type": "code",
      "metadata": {
        "id": "mbtloSd6Q6RQ",
        "colab_type": "code",
        "colab": {}
      },
      "source": [
        "doc = nlp(text) # applied tokenization"
      ],
      "execution_count": 0,
      "outputs": []
    },
    {
      "cell_type": "code",
      "metadata": {
        "id": "uy1URq-dQQIF",
        "colab_type": "code",
        "outputId": "27eb6003-a9ca-4170-d701-a70ee0f482f3",
        "colab": {
          "base_uri": "https://localhost:8080/",
          "height": 53
        }
      },
      "source": [
        "tokens = [token.text for token in doc]\n",
        "print(tokens)"
      ],
      "execution_count": 6,
      "outputs": [
        {
          "output_type": "stream",
          "text": [
            "[' ', 'Maria', 'Sharapova', 'has', 'basically', 'no', 'friends', 'as', 'tennis', 'players', 'on', 'the', 'WTA', 'Tour', '.', 'The', 'Russian', 'player', 'has', 'no', 'problems', 'in', 'openly', 'speaking', 'about', 'it', 'and', 'in', 'a', 'recent', 'interview', 'she', 'said', ':', '‘', 'I', 'do', 'n’t', 'really', 'hide', 'any', 'feelings', 'too', 'much', '.', '\\n', 'I', 'think', 'everyone', 'knows', 'this', 'is', 'my', 'job', 'here', '.', 'When', 'I', '’m', 'on', 'the', 'courts', 'or', 'when', 'I', '’m', 'on', 'the', 'court', 'playing', ',', 'I', '’m', 'a', 'competitor', 'and', 'I', 'want', 'to', 'beat', 'every', 'single', 'person', 'whether', 'they', '’re', 'in', 'the', 'locker', 'room', 'or', 'across', 'the', 'net', '.', '\\n', 'So', 'I', '’m', 'not', 'the', 'one', 'to', 'strike', 'up', 'a', 'conversation', 'about', 'the', 'weather', 'and', 'know', 'that', 'in', 'the', 'next', 'few', 'minutes', 'I', 'have', 'to', 'go', 'and', 'try', 'to', 'win', 'a', 'tennis', 'match', '.', '\\n', 'I', '’m', 'a', 'pretty', 'competitive', 'girl', '.', 'I', 'say', 'my', 'hellos', ',', 'but', 'I', '’m', 'not', 'sending', 'any', 'players', 'flowers', 'as', 'well', '.', 'Uhm', ',', 'I', '’m', 'not', 'really', 'friendly', 'or', 'close', 'to', 'many', 'players', '.', '\\n', 'I', 'have', 'not', 'a', 'lot', 'of', 'friends', 'away', 'from', 'the', 'courts', '.', '’', 'When', 'she', 'said', 'she', 'is', 'not', 'really', 'close', 'to', 'a', 'lot', 'of', 'players', ',', 'is', 'that', 'something', 'strategic', 'that', 'she', 'is', 'doing', '?', 'Is', 'it', 'different', 'on', 'the', 'men', '’s', 'tour', 'than', 'the', 'women', '’s', 'tour', '?', '‘', 'No', ',', 'not', 'at', 'all', '.', '\\n', 'I', 'think', 'just', 'because', 'you', '’re', 'in', 'the', 'same', 'sport', 'does', 'n’t', 'mean', 'that', 'you', 'have', 'to', 'be', 'friends', 'with', 'everyone', 'just', 'because', 'you', '’re', 'categorized', ',', 'you', '’re', 'a', 'tennis', 'player', ',', 'so', 'you', '’re', 'going', 'to', 'get', 'along', 'with', 'tennis', 'players', '.', '\\n', 'I', 'think', 'every', 'person', 'has', 'different', 'interests', '.', 'I', 'have', 'friends', 'that', 'have', 'completely', 'different', 'jobs', 'and', 'interests', ',', 'and', 'I', '’ve', 'met', 'them', 'in', 'very', 'different', 'parts', 'of', 'my', 'life', '.', '\\n', 'I', 'think', 'everyone', 'just', 'thinks', 'because', 'we', '’re', 'tennis', 'players', 'we', 'should', 'be', 'the', 'greatest', 'of', 'friends', '.', 'But', 'ultimately', 'tennis', 'is', 'just', 'a', 'very', 'small', 'part', 'of', 'what', 'we', 'do', '.', '\\n', 'There', 'are', 'so', 'many', 'other', 'things', 'that', 'we', '’re', 'interested', 'in', ',', 'that', 'we', 'do', '.']\n"
          ],
          "name": "stdout"
        }
      ]
    },
    {
      "cell_type": "code",
      "metadata": {
        "id": "_6BRyN8BSWsW",
        "colab_type": "code",
        "colab": {}
      },
      "source": [
        "# as you can see in above output, the punctuation and stop words are also the part of tokens"
      ],
      "execution_count": 0,
      "outputs": []
    },
    {
      "cell_type": "code",
      "metadata": {
        "id": "DXM-TThcSh_-",
        "colab_type": "code",
        "outputId": "bb2e9d0e-2d32-43d5-a002-300c7b95bebd",
        "colab": {
          "base_uri": "https://localhost:8080/",
          "height": 33
        }
      },
      "source": [
        "punctuation\n",
        "# list of punctuations"
      ],
      "execution_count": 8,
      "outputs": [
        {
          "output_type": "execute_result",
          "data": {
            "text/plain": [
              "'!\"#$%&\\'()*+,-./:;<=>?@[\\\\]^_`{|}~'"
            ]
          },
          "metadata": {
            "tags": []
          },
          "execution_count": 8
        }
      ]
    },
    {
      "cell_type": "code",
      "metadata": {
        "id": "HyNS1X2sbbi5",
        "colab_type": "code",
        "colab": {}
      },
      "source": [
        "# Add new line (\\n) to punctuation\n",
        "punctuation = punctuation + '\\n'"
      ],
      "execution_count": 0,
      "outputs": []
    },
    {
      "cell_type": "code",
      "metadata": {
        "id": "4LfxzP-sbksp",
        "colab_type": "code",
        "outputId": "e7152481-f6a9-4b0e-a6ef-b9685e8cf08b",
        "colab": {
          "base_uri": "https://localhost:8080/",
          "height": 33
        }
      },
      "source": [
        "punctuation"
      ],
      "execution_count": 10,
      "outputs": [
        {
          "output_type": "execute_result",
          "data": {
            "text/plain": [
              "'!\"#$%&\\'()*+,-./:;<=>?@[\\\\]^_`{|}~\\n'"
            ]
          },
          "metadata": {
            "tags": []
          },
          "execution_count": 10
        }
      ]
    },
    {
      "cell_type": "markdown",
      "metadata": {
        "id": "TsEWgCadbTNC",
        "colab_type": "text"
      },
      "source": [
        "# 2) Text Cleaning"
      ]
    },
    {
      "cell_type": "code",
      "metadata": {
        "id": "XS11-1IDSz88",
        "colab_type": "code",
        "colab": {}
      },
      "source": [
        "word_frequencies = {}\n",
        "\n",
        "for word in doc:\n",
        "  if word.text.lower() not in stopwords:\n",
        "    if word.text.lower() not in punctuation:\n",
        "      if word.text not in word_frequencies.keys():\n",
        "        word_frequencies[word.text] = 1\n",
        "      else:\n",
        "        word_frequencies[word.text] += 1\n",
        "\n",
        "# if any key is being introduced being first time the word of that occurence is onw\n",
        "# when a word is being introduced second time, third time, so on..\n",
        "# it will be incremented by 1 "
      ],
      "execution_count": 0,
      "outputs": []
    },
    {
      "cell_type": "code",
      "metadata": {
        "id": "IkFlSn_hdCXM",
        "colab_type": "code",
        "outputId": "49dee330-89f0-4f04-aad0-d00b85f94992",
        "colab": {
          "base_uri": "https://localhost:8080/",
          "height": 53
        }
      },
      "source": [
        "print(word_frequencies)"
      ],
      "execution_count": 12,
      "outputs": [
        {
          "output_type": "stream",
          "text": [
            "{' ': 1, 'Maria': 1, 'Sharapova': 1, 'basically': 1, 'friends': 5, 'tennis': 6, 'players': 6, 'WTA': 1, 'Tour': 1, 'Russian': 1, 'player': 2, 'problems': 1, 'openly': 1, 'speaking': 1, 'recent': 1, 'interview': 1, 'said': 2, '‘': 2, 'hide': 1, 'feelings': 1, 'think': 4, 'knows': 1, 'job': 1, 'courts': 2, 'court': 1, 'playing': 1, 'competitor': 1, 'want': 1, 'beat': 1, 'single': 1, 'person': 2, 'locker': 1, 'room': 1, 'net': 1, 'strike': 1, 'conversation': 1, 'weather': 1, 'know': 1, 'minutes': 1, 'try': 1, 'win': 1, 'match': 1, 'pretty': 1, 'competitive': 1, 'girl': 1, 'hellos': 1, 'sending': 1, 'flowers': 1, 'Uhm': 1, 'friendly': 1, 'close': 2, 'lot': 2, 'away': 1, '’': 1, 'strategic': 1, 'different': 4, 'men': 1, 'tour': 2, 'women': 1, 'sport': 1, 'mean': 1, 'categorized': 1, 'going': 1, 'interests': 2, 'completely': 1, 'jobs': 1, 'met': 1, 'parts': 1, 'life': 1, 'thinks': 1, 'greatest': 1, 'ultimately': 1, 'small': 1, 'things': 1, 'interested': 1}\n"
          ],
          "name": "stdout"
        }
      ]
    },
    {
      "cell_type": "code",
      "metadata": {
        "id": "8dmHnZ3ddKa7",
        "colab_type": "code",
        "colab": {}
      },
      "source": [
        "max_frequency = max(word_frequencies.values())"
      ],
      "execution_count": 0,
      "outputs": []
    },
    {
      "cell_type": "code",
      "metadata": {
        "id": "mrM0LBU9dU9I",
        "colab_type": "code",
        "outputId": "b6009137-1bbd-41a6-c12f-2db43caf12d5",
        "colab": {
          "base_uri": "https://localhost:8080/",
          "height": 33
        }
      },
      "source": [
        "max_frequency"
      ],
      "execution_count": 14,
      "outputs": [
        {
          "output_type": "execute_result",
          "data": {
            "text/plain": [
              "6"
            ]
          },
          "metadata": {
            "tags": []
          },
          "execution_count": 14
        }
      ]
    },
    {
      "cell_type": "code",
      "metadata": {
        "id": "IRLsFUgtdXH7",
        "colab_type": "code",
        "colab": {}
      },
      "source": [
        "# we are going to divide each of the value by 6 (max_frequency)\n",
        "# so the normalized frequency can be achieved"
      ],
      "execution_count": 0,
      "outputs": []
    },
    {
      "cell_type": "code",
      "metadata": {
        "id": "2Biw2GLMdmVN",
        "colab_type": "code",
        "colab": {}
      },
      "source": [
        "for word in word_frequencies.keys():\n",
        "  word_frequencies[word] = word_frequencies[word] / max_frequency"
      ],
      "execution_count": 0,
      "outputs": []
    },
    {
      "cell_type": "code",
      "metadata": {
        "id": "paEqt_yWdmXv",
        "colab_type": "code",
        "outputId": "c8d5e6f9-78f7-4c79-c91a-64b7e6659294",
        "colab": {
          "base_uri": "https://localhost:8080/",
          "height": 53
        }
      },
      "source": [
        "print(word_frequencies)\n",
        "# all the word frequencies are normalized"
      ],
      "execution_count": 16,
      "outputs": [
        {
          "output_type": "stream",
          "text": [
            "{' ': 0.16666666666666666, 'Maria': 0.16666666666666666, 'Sharapova': 0.16666666666666666, 'basically': 0.16666666666666666, 'friends': 0.8333333333333334, 'tennis': 1.0, 'players': 1.0, 'WTA': 0.16666666666666666, 'Tour': 0.16666666666666666, 'Russian': 0.16666666666666666, 'player': 0.3333333333333333, 'problems': 0.16666666666666666, 'openly': 0.16666666666666666, 'speaking': 0.16666666666666666, 'recent': 0.16666666666666666, 'interview': 0.16666666666666666, 'said': 0.3333333333333333, '‘': 0.3333333333333333, 'hide': 0.16666666666666666, 'feelings': 0.16666666666666666, 'think': 0.6666666666666666, 'knows': 0.16666666666666666, 'job': 0.16666666666666666, 'courts': 0.3333333333333333, 'court': 0.16666666666666666, 'playing': 0.16666666666666666, 'competitor': 0.16666666666666666, 'want': 0.16666666666666666, 'beat': 0.16666666666666666, 'single': 0.16666666666666666, 'person': 0.3333333333333333, 'locker': 0.16666666666666666, 'room': 0.16666666666666666, 'net': 0.16666666666666666, 'strike': 0.16666666666666666, 'conversation': 0.16666666666666666, 'weather': 0.16666666666666666, 'know': 0.16666666666666666, 'minutes': 0.16666666666666666, 'try': 0.16666666666666666, 'win': 0.16666666666666666, 'match': 0.16666666666666666, 'pretty': 0.16666666666666666, 'competitive': 0.16666666666666666, 'girl': 0.16666666666666666, 'hellos': 0.16666666666666666, 'sending': 0.16666666666666666, 'flowers': 0.16666666666666666, 'Uhm': 0.16666666666666666, 'friendly': 0.16666666666666666, 'close': 0.3333333333333333, 'lot': 0.3333333333333333, 'away': 0.16666666666666666, '’': 0.16666666666666666, 'strategic': 0.16666666666666666, 'different': 0.6666666666666666, 'men': 0.16666666666666666, 'tour': 0.3333333333333333, 'women': 0.16666666666666666, 'sport': 0.16666666666666666, 'mean': 0.16666666666666666, 'categorized': 0.16666666666666666, 'going': 0.16666666666666666, 'interests': 0.3333333333333333, 'completely': 0.16666666666666666, 'jobs': 0.16666666666666666, 'met': 0.16666666666666666, 'parts': 0.16666666666666666, 'life': 0.16666666666666666, 'thinks': 0.16666666666666666, 'greatest': 0.16666666666666666, 'ultimately': 0.16666666666666666, 'small': 0.16666666666666666, 'things': 0.16666666666666666, 'interested': 0.16666666666666666}\n"
          ],
          "name": "stdout"
        }
      ]
    },
    {
      "cell_type": "markdown",
      "metadata": {
        "id": "KHmFpBDJeKnD",
        "colab_type": "text"
      },
      "source": [
        "# 3) Sentence tokenization"
      ]
    },
    {
      "cell_type": "code",
      "metadata": {
        "id": "WG-2wIfNeNpb",
        "colab_type": "code",
        "outputId": "55a06a8f-86f4-42b8-c2af-007c2f40945d",
        "colab": {
          "base_uri": "https://localhost:8080/",
          "height": 187
        }
      },
      "source": [
        "sentence_tokens = [sent for sent in doc.sents]\n",
        "print(sentence_tokens)"
      ],
      "execution_count": 17,
      "outputs": [
        {
          "output_type": "stream",
          "text": [
            "[ Maria Sharapova has basically no friends as tennis players on the WTA Tour., The Russian player has no problems in openly speaking about it and, in a recent interview she said: ‘I don’t really hide any feelings too much.\n",
            ", I think everyone knows this is my job here., When I’m on the courts or when I’m on the court playing, , I’m a competitor and I want to beat every single person whether they’re in the locker room or across the net.\n",
            ", So I’m not the one to strike up a conversation about the weather and know that in the next few minutes I have to go and try to win a tennis match.\n",
            ", I’m a pretty competitive girl., I say my hellos, but I’m not sending any players flowers as well., Uhm, , I’m not really friendly or close to many players.\n",
            ", I have not a lot of friends away from the courts.’, When she said she is not really close to a lot of players, is that something strategic that she is doing?, Is it different on the men’s tour than the women, ’s tour? ‘, No, not at all.\n",
            ", I think just because you’re in the same sport doesn’t mean that you have to be friends with everyone, just because you’re categorized, , you’re a tennis player, so you’re going to get along with tennis players.\n",
            ", I think every person has different interests., I have friends that have completely different jobs and interests, and, I’ve met them in very different parts of my life.\n",
            ", I think everyone just thinks because we’re tennis players, we should be the greatest of friends., But ultimately tennis is just a very small part of what we do.\n",
            ", There are so many other things that we’re interested in, that we do.]\n"
          ],
          "name": "stdout"
        }
      ]
    },
    {
      "cell_type": "code",
      "metadata": {
        "id": "cuAJNsXBeNjz",
        "colab_type": "code",
        "colab": {}
      },
      "source": [
        "# calculate sentence score"
      ],
      "execution_count": 0,
      "outputs": []
    },
    {
      "cell_type": "code",
      "metadata": {
        "id": "MyoYYCVxea5r",
        "colab_type": "code",
        "colab": {}
      },
      "source": [
        "sentence_score = {}\n",
        "\n",
        "for sent in sentence_tokens:\n",
        "  for word in sent:\n",
        "    if word.text.lower() in word_frequencies.keys(): # if word_frequencies.keys() present there\n",
        "      if sent not in sentence_score.keys():          # we will add normalized freq counts in each sentence\n",
        "        sentence_score[sent] = word_frequencies[word.text.lower()]\n",
        "      else:\n",
        "        sentence_score[sent] += word_frequencies[word.text.lower()]"
      ],
      "execution_count": 0,
      "outputs": []
    },
    {
      "cell_type": "code",
      "metadata": {
        "id": "iVsSvn8kfOjf",
        "colab_type": "code",
        "outputId": "4adbb1e3-0bf0-4104-b2bf-91a5a40f367d",
        "colab": {
          "base_uri": "https://localhost:8080/",
          "height": 170
        }
      },
      "source": [
        "print(sentence_score)"
      ],
      "execution_count": 19,
      "outputs": [
        {
          "output_type": "stream",
          "text": [
            "{ Maria Sharapova has basically no friends as tennis players on the WTA Tour.: 3.5000000000000004, The Russian player has no problems in openly speaking about it and: 0.8333333333333333, in a recent interview she said: ‘I don’t really hide any feelings too much.\n",
            ": 1.3333333333333335, I think everyone knows this is my job here.: 0.9999999999999999, When I’m on the courts or when I’m on the court playing: 0.6666666666666666, , I’m a competitor and I want to beat every single person whether they’re in the locker room or across the net.\n",
            ": 1.5000000000000002, So I’m not the one to strike up a conversation about the weather and know that in the next few minutes I have to go and try to win a tennis match.\n",
            ": 2.333333333333333, I’m a pretty competitive girl.: 0.5, I say my hellos, but I’m not sending any players flowers as well.: 1.5, , I’m not really friendly or close to many players.\n",
            ": 1.5, I have not a lot of friends away from the courts.’: 1.8333333333333335, When she said she is not really close to a lot of players, is that something strategic that she is doing?: 2.1666666666666665, Is it different on the men’s tour than the women: 1.3333333333333333, ’s tour? ‘: 0.6666666666666666, I think just because you’re in the same sport doesn’t mean that you have to be friends with everyone: 1.8333333333333333, just because you’re categorized: 0.16666666666666666, , you’re a tennis player, so you’re going to get along with tennis players.\n",
            ": 3.5, I think every person has different interests.: 1.9999999999999998, I have friends that have completely different jobs and interests, and: 2.1666666666666665, I’ve met them in very different parts of my life.\n",
            ": 1.1666666666666665, I think everyone just thinks because we’re tennis players: 2.833333333333333, we should be the greatest of friends.: 1.0, But ultimately tennis is just a very small part of what we do.\n",
            ": 1.3333333333333335, There are so many other things that we’re interested in, that we do.: 0.3333333333333333}\n"
          ],
          "name": "stdout"
        }
      ]
    },
    {
      "cell_type": "markdown",
      "metadata": {
        "id": "BZRIY9GYgjls",
        "colab_type": "text"
      },
      "source": [
        "# 3) Select 30% sentences with maximum score"
      ]
    },
    {
      "cell_type": "code",
      "metadata": {
        "id": "2suHrlplfIw_",
        "colab_type": "code",
        "colab": {}
      },
      "source": [
        "from heapq import nlargest"
      ],
      "execution_count": 0,
      "outputs": []
    },
    {
      "cell_type": "code",
      "metadata": {
        "id": "brcE85Lzgsyz",
        "colab_type": "code",
        "colab": {}
      },
      "source": [
        "select_length = int(len(sentence_tokens)) * 0.3"
      ],
      "execution_count": 0,
      "outputs": []
    },
    {
      "cell_type": "code",
      "metadata": {
        "id": "09r_4thbg-3k",
        "colab_type": "code",
        "outputId": "81ca3a9e-bafc-41d2-ff77-252e583eabb4",
        "colab": {
          "base_uri": "https://localhost:8080/",
          "height": 33
        }
      },
      "source": [
        "print(select_length)\n",
        "# 30% of total sentences is almost 8"
      ],
      "execution_count": 22,
      "outputs": [
        {
          "output_type": "stream",
          "text": [
            "7.8\n"
          ],
          "name": "stdout"
        }
      ]
    },
    {
      "cell_type": "code",
      "metadata": {
        "id": "Vwk7SSLWhBqN",
        "colab_type": "code",
        "colab": {}
      },
      "source": [
        "# here we have selected 8 sentences that has maximum frequency count"
      ],
      "execution_count": 0,
      "outputs": []
    },
    {
      "cell_type": "markdown",
      "metadata": {
        "id": "2S0MgWlqhVaz",
        "colab_type": "text"
      },
      "source": [
        "# 4) Getting the Summary"
      ]
    },
    {
      "cell_type": "code",
      "metadata": {
        "id": "suwbFPK1hTUW",
        "colab_type": "code",
        "colab": {}
      },
      "source": [
        "summary = nlargest(n=int(select_length), iterable=sentence_score, key = sentence_score.get)"
      ],
      "execution_count": 0,
      "outputs": []
    },
    {
      "cell_type": "code",
      "metadata": {
        "id": "wCTsHYF2jLIk",
        "colab_type": "code",
        "outputId": "72341420-b78f-4b55-de57-bdff83379c38",
        "colab": {
          "base_uri": "https://localhost:8080/",
          "height": 87
        }
      },
      "source": [
        "print(summary)\n",
        "# these 8 sentences represents summary of text"
      ],
      "execution_count": 24,
      "outputs": [
        {
          "output_type": "stream",
          "text": [
            "[ Maria Sharapova has basically no friends as tennis players on the WTA Tour., , you’re a tennis player, so you’re going to get along with tennis players.\n",
            ", I think everyone just thinks because we’re tennis players, So I’m not the one to strike up a conversation about the weather and know that in the next few minutes I have to go and try to win a tennis match.\n",
            ", When she said she is not really close to a lot of players, is that something strategic that she is doing?, I have friends that have completely different jobs and interests, and, I think every person has different interests.]\n"
          ],
          "name": "stdout"
        }
      ]
    },
    {
      "cell_type": "code",
      "metadata": {
        "id": "M-z8kBP-hTZg",
        "colab_type": "code",
        "colab": {}
      },
      "source": [
        "# combine these sentences together\n",
        "final_summary = [word.text for word in summary]"
      ],
      "execution_count": 0,
      "outputs": []
    },
    {
      "cell_type": "code",
      "metadata": {
        "id": "nTUPkb69kPn1",
        "colab_type": "code",
        "outputId": "c46776e3-f48d-4739-ff88-1e39e796eb96",
        "colab": {
          "base_uri": "https://localhost:8080/",
          "height": 154
        }
      },
      "source": [
        "final_summary"
      ],
      "execution_count": 26,
      "outputs": [
        {
          "output_type": "execute_result",
          "data": {
            "text/plain": [
              "[' Maria Sharapova has basically no friends as tennis players on the WTA Tour.',\n",
              " ', you’re a tennis player, so you’re going to get along with tennis players.\\n',\n",
              " 'I think everyone just thinks because we’re tennis players',\n",
              " 'So I’m not the one to strike up a conversation about the weather and know that in the next few minutes I have to go and try to win a tennis match.\\n',\n",
              " 'When she said she is not really close to a lot of players, is that something strategic that she is doing?',\n",
              " 'I have friends that have completely different jobs and interests, and',\n",
              " 'I think every person has different interests.']"
            ]
          },
          "metadata": {
            "tags": []
          },
          "execution_count": 26
        }
      ]
    },
    {
      "cell_type": "code",
      "metadata": {
        "id": "8uIpvUXKkk99",
        "colab_type": "code",
        "colab": {}
      },
      "source": [
        "summary = ' '.join(final_summary)"
      ],
      "execution_count": 0,
      "outputs": []
    },
    {
      "cell_type": "code",
      "metadata": {
        "id": "KPyDQrX3hTXa",
        "colab_type": "code",
        "outputId": "0365f4e5-5d79-40b0-cdfa-211ecc3f3795",
        "colab": {
          "base_uri": "https://localhost:8080/",
          "height": 87
        }
      },
      "source": [
        "print(summary)"
      ],
      "execution_count": 28,
      "outputs": [
        {
          "output_type": "stream",
          "text": [
            " Maria Sharapova has basically no friends as tennis players on the WTA Tour. , you’re a tennis player, so you’re going to get along with tennis players.\n",
            " I think everyone just thinks because we’re tennis players So I’m not the one to strike up a conversation about the weather and know that in the next few minutes I have to go and try to win a tennis match.\n",
            " When she said she is not really close to a lot of players, is that something strategic that she is doing? I have friends that have completely different jobs and interests, and I think every person has different interests.\n"
          ],
          "name": "stdout"
        }
      ]
    },
    {
      "cell_type": "code",
      "metadata": {
        "id": "tNy-X5Bnk5il",
        "colab_type": "code",
        "colab": {}
      },
      "source": [
        "# compare length of original text and summary"
      ],
      "execution_count": 0,
      "outputs": []
    },
    {
      "cell_type": "code",
      "metadata": {
        "id": "seNrxXzzlAGP",
        "colab_type": "code",
        "outputId": "a0bf49a6-ef5e-475b-c9c8-c89c56074a7b",
        "colab": {
          "base_uri": "https://localhost:8080/",
          "height": 33
        }
      },
      "source": [
        "len(text) # length of original text "
      ],
      "execution_count": 29,
      "outputs": [
        {
          "output_type": "execute_result",
          "data": {
            "text/plain": [
              "1563"
            ]
          },
          "metadata": {
            "tags": []
          },
          "execution_count": 29
        }
      ]
    },
    {
      "cell_type": "code",
      "metadata": {
        "id": "CWrgZ-NWlBoN",
        "colab_type": "code",
        "outputId": "465a1b7c-3c7b-467d-f49f-5270b514ef11",
        "colab": {
          "base_uri": "https://localhost:8080/",
          "height": 33
        }
      },
      "source": [
        "len(summary) # length of summary"
      ],
      "execution_count": 30,
      "outputs": [
        {
          "output_type": "execute_result",
          "data": {
            "text/plain": [
              "581"
            ]
          },
          "metadata": {
            "tags": []
          },
          "execution_count": 30
        }
      ]
    },
    {
      "cell_type": "code",
      "metadata": {
        "id": "R7D1E5a7lK86",
        "colab_type": "code",
        "colab": {}
      },
      "source": [
        "# the length of summary is almost 30% of original length of text"
      ],
      "execution_count": 0,
      "outputs": []
    }
  ]
}
