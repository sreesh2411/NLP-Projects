{
  "nbformat": 4,
  "nbformat_minor": 0,
  "metadata": {
    "colab": {
      "name": "07TwitterSentimentAnalysis.ipynb",
      "provenance": [],
      "collapsed_sections": []
    },
    "kernelspec": {
      "name": "python3",
      "display_name": "Python 3"
    }
  },
  "cells": [
    {
      "cell_type": "markdown",
      "metadata": {
        "id": "p0ZjjTnjrTJz",
        "colab_type": "text"
      },
      "source": [
        "# 1) Importing the Libraries"
      ]
    },
    {
      "cell_type": "code",
      "metadata": {
        "id": "cRGW8bhNrVlP",
        "colab_type": "code",
        "colab": {}
      },
      "source": [
        "from textblob import TextBlob\n",
        "# TextBlob is a Python library to process the textual data \n",
        "# It provides a simple API for diving into common natural language processing tasks such as POS tagging, noun phrase extraction, sentiment analysis, classification, etc"
      ],
      "execution_count": 0,
      "outputs": []
    },
    {
      "cell_type": "code",
      "metadata": {
        "id": "Uy4eNoL58t9n",
        "colab_type": "code",
        "colab": {}
      },
      "source": [
        "import sys\n",
        "# The sys module provides information about constants, functions and methods of the Python interpreter"
      ],
      "execution_count": 0,
      "outputs": []
    },
    {
      "cell_type": "code",
      "metadata": {
        "id": "4LLZws8H9NH0",
        "colab_type": "code",
        "colab": {}
      },
      "source": [
        "import tweepy\n",
        "# Tweepy is a Python library for accessing the Twitter API"
      ],
      "execution_count": 0,
      "outputs": []
    },
    {
      "cell_type": "code",
      "metadata": {
        "id": "m8onPYfGCXF1",
        "colab_type": "code",
        "colab": {}
      },
      "source": [
        "import matplotlib.pyplot as plt"
      ],
      "execution_count": 0,
      "outputs": []
    },
    {
      "cell_type": "markdown",
      "metadata": {
        "id": "VowX2r0ssJIB",
        "colab_type": "text"
      },
      "source": [
        "# 2)  Connecting with the Twitter API"
      ]
    },
    {
      "cell_type": "code",
      "metadata": {
        "id": "bQzulnuVsLI3",
        "colab_type": "code",
        "colab": {}
      },
      "source": [
        "# Importing the keys\n",
        "consumer_key = \"0X1n7RLbEbKCptc3IWWO0NyKg\"\n",
        "consumer_secret = \"JAIvCNkR2KtPsKP2KuWI6Uf4vdSwWB04Fsn6WnzHxp2RF2d3G7\"\n",
        "access_token = \"4265465548-H3Wrpd5r6H0XvrlPdXrCgVGgK7XtWFtRod68mdR\"\n",
        "access_token_secret = \"nf16USo4dklbFoNE4W1rNmhS564rm7yFgJdIcKIsLMUXE\""
      ],
      "execution_count": 0,
      "outputs": []
    },
    {
      "cell_type": "code",
      "metadata": {
        "id": "9Yu9hZCPs0RA",
        "colab_type": "code",
        "colab": {}
      },
      "source": [
        "# Establish the connection with API\n",
        "auth = tweepy.OAuthHandler(consumer_key, consumer_secret)\n",
        "auth.set_access_token(access_token, access_token_secret)\n",
        "# given authorization to tweepy for accessing the twitter data\n",
        "\n",
        "api = tweepy.API(auth) # geting API"
      ],
      "execution_count": 0,
      "outputs": []
    },
    {
      "cell_type": "code",
      "metadata": {
        "id": "X4ZNZotJtBm_",
        "colab_type": "code",
        "outputId": "85203d20-7001-4430-edc7-b974ad582e96",
        "colab": {
          "base_uri": "https://localhost:8080/",
          "height": 50
        }
      },
      "source": [
        "# Define variables, search term and number of tweets\n",
        "search_term = input(\"Enter Keyword/Tag to search about: \")\n",
        "no_of_tweets = int(input(\"Enter how many tweets to search: \"))\n",
        "\n",
        "# search_term will allow us to search the term on twitter\n",
        "# and second line will allow us to enter number the number of twits"
      ],
      "execution_count": 7,
      "outputs": [
        {
          "output_type": "stream",
          "text": [
            "Enter Keyword/Tag to search about: House of Cards\n",
            "Enter how many tweets to search: 25\n"
          ],
          "name": "stdout"
        }
      ]
    },
    {
      "cell_type": "code",
      "metadata": {
        "id": "If1uO6DttEY3",
        "colab_type": "code",
        "colab": {}
      },
      "source": [
        "# Get no_of_tweets and search_term together\n",
        "tweets = tweepy.Cursor(api.search, q=search_term).items(no_of_tweets)"
      ],
      "execution_count": 0,
      "outputs": []
    },
    {
      "cell_type": "markdown",
      "metadata": {
        "id": "R9EIrO6_tSTP",
        "colab_type": "text"
      },
      "source": [
        "# 3) Understanding the working of TextBlob"
      ]
    },
    {
      "cell_type": "code",
      "metadata": {
        "id": "q6A9wMnwtVZ7",
        "colab_type": "code",
        "colab": {}
      },
      "source": [
        "# TextBlob gives the sentiment polarity between -1 to +1\n",
        "# -1 is for negative polarity, 0 is for neutral polarity and +1 is for positive polarity"
      ],
      "execution_count": 0,
      "outputs": []
    },
    {
      "cell_type": "code",
      "metadata": {
        "id": "ggFS_FhmS1Hg",
        "colab_type": "code",
        "outputId": "6066d0b0-a5ec-43da-f989-2d8e39411cec",
        "colab": {
          "base_uri": "https://localhost:8080/",
          "height": 33
        }
      },
      "source": [
        "# Negative polarity\n",
        "a = TextBlob(\"I am a bad Cricket player\")\n",
        "a.sentiment.polarity"
      ],
      "execution_count": 9,
      "outputs": [
        {
          "output_type": "execute_result",
          "data": {
            "text/plain": [
              "-0.6999999999999998"
            ]
          },
          "metadata": {
            "tags": []
          },
          "execution_count": 9
        }
      ]
    },
    {
      "cell_type": "code",
      "metadata": {
        "id": "znP4XT9UtcLG",
        "colab_type": "code",
        "outputId": "f7377a18-e7b4-4899-d2ca-1a7af3874a35",
        "colab": {
          "base_uri": "https://localhost:8080/",
          "height": 33
        }
      },
      "source": [
        "# Positive polarity\n",
        "b = TextBlob(\"I am a good Cricket player\")\n",
        "b.sentiment.polarity"
      ],
      "execution_count": 10,
      "outputs": [
        {
          "output_type": "execute_result",
          "data": {
            "text/plain": [
              "0.7"
            ]
          },
          "metadata": {
            "tags": []
          },
          "execution_count": 10
        }
      ]
    },
    {
      "cell_type": "code",
      "metadata": {
        "id": "tY3vme9itXZH",
        "colab_type": "code",
        "outputId": "89f8ff4b-759f-4d06-aa95-216966f2984b",
        "colab": {
          "base_uri": "https://localhost:8080/",
          "height": 33
        }
      },
      "source": [
        "# Neutral polarity\n",
        "c = TextBlob(\"I am a Cricket player\")\n",
        "c.sentiment.polarity"
      ],
      "execution_count": 11,
      "outputs": [
        {
          "output_type": "execute_result",
          "data": {
            "text/plain": [
              "0.0"
            ]
          },
          "metadata": {
            "tags": []
          },
          "execution_count": 11
        }
      ]
    },
    {
      "cell_type": "markdown",
      "metadata": {
        "id": "ou56yV5VVSCU",
        "colab_type": "text"
      },
      "source": [
        "# 4) Iterate the data and convert the result in percentage"
      ]
    },
    {
      "cell_type": "code",
      "metadata": {
        "id": "Qu8glX79te_J",
        "colab_type": "code",
        "colab": {}
      },
      "source": [
        "# Create variables to hold the average polarity\n",
        "\n",
        "positive = 0\n",
        "negative = 0\n",
        "neutral = 0\n",
        "polarity = 0\n",
        "\n",
        "# 'polarity' will be the average polarity of all the twits "
      ],
      "execution_count": 0,
      "outputs": []
    },
    {
      "cell_type": "code",
      "metadata": {
        "id": "WhDjOby3tkVZ",
        "colab_type": "code",
        "colab": {}
      },
      "source": [
        "# Iterate with for loop\n",
        "\n",
        "for tweet in tweets:\n",
        "   analysis = TextBlob(tweet.text) # 'tweet.text' number of tweets that we are searching for\n",
        "   polarity += analysis.sentiment.polarity\n",
        "   \n",
        "   if(analysis.sentiment.polarity == 0):\n",
        "       neutral += 1\n",
        "       \n",
        "   elif(analysis.sentiment.polarity < 0.00):\n",
        "       negative += 1\n",
        "\n",
        "   elif(analysis.sentiment.polarity > 0.00):\n",
        "       positive += 1"
      ],
      "execution_count": 0,
      "outputs": []
    },
    {
      "cell_type": "code",
      "metadata": {
        "id": "EPVVMQssUrRO",
        "colab_type": "code",
        "colab": {}
      },
      "source": [
        "# Define a function to calculate the percentage\n",
        "def percentage(part, whole):\n",
        "    return 100 * float(part)/float(whole)"
      ],
      "execution_count": 0,
      "outputs": []
    },
    {
      "cell_type": "code",
      "metadata": {
        "id": "HMrx6P6BUtG_",
        "colab_type": "code",
        "outputId": "32de050a-be05-4a16-bc7e-2feecde28261",
        "colab": {
          "base_uri": "https://localhost:8080/",
          "height": 33
        }
      },
      "source": [
        "percentage(5,20)\n",
        "# function is working fine"
      ],
      "execution_count": 15,
      "outputs": [
        {
          "output_type": "execute_result",
          "data": {
            "text/plain": [
              "25.0"
            ]
          },
          "metadata": {
            "tags": []
          },
          "execution_count": 15
        }
      ]
    },
    {
      "cell_type": "code",
      "metadata": {
        "id": "HXZVBym3tl3K",
        "colab_type": "code",
        "colab": {}
      },
      "source": [
        "# Generate the percentages\n",
        "positive = percentage(positive, no_of_tweets)\n",
        "negative = percentage(negative, no_of_tweets)\n",
        "neutral  = percentage(neutral, no_of_tweets)\n",
        "polarity  = percentage(polarity, no_of_tweets)"
      ],
      "execution_count": 0,
      "outputs": []
    },
    {
      "cell_type": "code",
      "metadata": {
        "id": "MPWxYNH5tqJQ",
        "colab_type": "code",
        "colab": {}
      },
      "source": [
        "# Limit decimal upto 2 places\n",
        "positive = format(positive, '.2f')\n",
        "negative = format(negative, '.2f')\n",
        "neutral = format(neutral, '.2f')"
      ],
      "execution_count": 0,
      "outputs": []
    },
    {
      "cell_type": "markdown",
      "metadata": {
        "id": "fLFcsqbnW730",
        "colab_type": "text"
      },
      "source": [
        "# 5) Getting the result of analysis"
      ]
    },
    {
      "cell_type": "code",
      "metadata": {
        "id": "nWFtELkpttih",
        "colab_type": "code",
        "outputId": "8f813cd3-2089-4c0b-f390-a347168dcc92",
        "colab": {
          "base_uri": "https://localhost:8080/",
          "height": 50
        }
      },
      "source": [
        "# Print analysis of result\n",
        "\n",
        "print(\"Reaction of the people on \" + search_term + \n",
        "      \" By analyzing \" + str(no_of_tweets) + \" Tweets \")\n",
        "\n",
        "if (polarity == 0):\n",
        "    print(\" is 'Neutral'\")\n",
        "    \n",
        "elif (polarity < 0.00):\n",
        "    print(\"is 'Negative'\")\n",
        "    \n",
        "elif (polarity > 0.00):\n",
        "    print(\"is 'Positive'\")"
      ],
      "execution_count": 18,
      "outputs": [
        {
          "output_type": "stream",
          "text": [
            "Reaction of the people on House of Cards By analyzing 25 Tweets \n",
            "is 'Positive'\n"
          ],
          "name": "stdout"
        }
      ]
    },
    {
      "cell_type": "code",
      "metadata": {
        "id": "S4sBghSOtvTm",
        "colab_type": "code",
        "outputId": "bf6eacba-15b1-48a4-c65e-128af537692a",
        "colab": {
          "base_uri": "https://localhost:8080/",
          "height": 297
        }
      },
      "source": [
        "# Print Pie Chart\n",
        "    \n",
        "labels = ['Positive ['+str(positive)+'%]', \n",
        "          'Neutral ['+str(neutral)+'%]', \n",
        "          'Negative ['+str(negative)+'%]']\n",
        "\n",
        "sizes = [positive, neutral, negative]\n",
        "colors = ['yellowgreen', 'gold', 'red']\n",
        "\n",
        "patches, texts = plt.pie(sizes, colors = colors, startangle = 90)\n",
        "plt.legend(patches, labels, loc = \"best\")\n",
        "plt.title('Reaction of the people on '\n",
        "          + search_term +' by analyzing '\n",
        "          + str(no_of_tweets) +' Tweets is:')\n",
        "plt.axis('equal')\n",
        "plt.tight_layout()\n",
        "plt.show()"
      ],
      "execution_count": 19,
      "outputs": [
        {
          "output_type": "display_data",
          "data": {
            "image/png": "[encoded data removed]",
            "text/plain": [
              "<Figure size 432x288 with 1 Axes>"
            ]
          },
          "metadata": {
            "tags": []
          }
        }
      ]
    }
  ]
}

